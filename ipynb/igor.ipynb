{
 "metadata": {
  "name": "",
  "signature": "sha256:726fdab94d41d85f7c95038529db92543385f5a6f8c5aa134b4122d06bf8d43c"
 },
 "nbformat": 3,
 "nbformat_minor": 0,
 "worksheets": [
  {
   "cells": [
    {
     "cell_type": "code",
     "collapsed": false,
     "input": [
      "import numpy"
     ],
     "language": "python",
     "metadata": {},
     "outputs": [],
     "prompt_number": 1
    },
    {
     "cell_type": "code",
     "collapsed": false,
     "input": [
      "import scipy"
     ],
     "language": "python",
     "metadata": {},
     "outputs": [],
     "prompt_number": 2
    },
    {
     "cell_type": "code",
     "collapsed": false,
     "input": [
      "import twitter"
     ],
     "language": "python",
     "metadata": {},
     "outputs": [],
     "prompt_number": 13
    },
    {
     "cell_type": "code",
     "collapsed": false,
     "input": [
      "import sklearn"
     ],
     "language": "python",
     "metadata": {},
     "outputs": [],
     "prompt_number": 3
    },
    {
     "cell_type": "code",
     "collapsed": false,
     "input": [
      "from sklearn import datasets"
     ],
     "language": "python",
     "metadata": {},
     "outputs": [],
     "prompt_number": 4
    },
    {
     "cell_type": "code",
     "collapsed": false,
     "input": [
      "iris = datasets.load_iris()"
     ],
     "language": "python",
     "metadata": {},
     "outputs": [],
     "prompt_number": 5
    },
    {
     "cell_type": "code",
     "collapsed": false,
     "input": [
      "iris.target"
     ],
     "language": "python",
     "metadata": {},
     "outputs": [
      {
       "metadata": {},
       "output_type": "pyout",
       "prompt_number": 9,
       "text": [
        "array([0, 0, 0, 0, 0, 0, 0, 0, 0, 0, 0, 0, 0, 0, 0, 0, 0, 0, 0, 0, 0, 0, 0,\n",
        "       0, 0, 0, 0, 0, 0, 0, 0, 0, 0, 0, 0, 0, 0, 0, 0, 0, 0, 0, 0, 0, 0, 0,\n",
        "       0, 0, 0, 0, 1, 1, 1, 1, 1, 1, 1, 1, 1, 1, 1, 1, 1, 1, 1, 1, 1, 1, 1,\n",
        "       1, 1, 1, 1, 1, 1, 1, 1, 1, 1, 1, 1, 1, 1, 1, 1, 1, 1, 1, 1, 1, 1, 1,\n",
        "       1, 1, 1, 1, 1, 1, 1, 1, 2, 2, 2, 2, 2, 2, 2, 2, 2, 2, 2, 2, 2, 2, 2,\n",
        "       2, 2, 2, 2, 2, 2, 2, 2, 2, 2, 2, 2, 2, 2, 2, 2, 2, 2, 2, 2, 2, 2, 2,\n",
        "       2, 2, 2, 2, 2, 2, 2, 2, 2, 2, 2, 2])"
       ]
      }
     ],
     "prompt_number": 9
    },
    {
     "cell_type": "code",
     "collapsed": false,
     "input": [
      "\n",
      "import MySQLdb as mdb\n",
      "import sys"
     ],
     "language": "python",
     "metadata": {},
     "outputs": [],
     "prompt_number": 1
    },
    {
     "cell_type": "code",
     "collapsed": false,
     "input": [
      "con = mdb.connect('localhost', 'root', \n",
      "    'testtest', 'igor');"
     ],
     "language": "python",
     "metadata": {},
     "outputs": [],
     "prompt_number": 2
    },
    {
     "cell_type": "code",
     "collapsed": false,
     "input": [
      "with con:\n",
      "    \n",
      "    cur = con.cursor()\n",
      "    cur.execute(\"DROP TABLE IF EXISTS Writers\")\n",
      "    cur.execute(\"CREATE TABLE Writers(Id INT PRIMARY KEY AUTO_INCREMENT, \\\n",
      "                 Name VARCHAR(25))\")\n",
      "    cur.execute(\"INSERT INTO Writers(Name) VALUES('Jack London')\")\n",
      "    cur.execute(\"INSERT INTO Writers(Name) VALUES('Honore de Balzac')\")\n",
      "    cur.execute(\"INSERT INTO Writers(Name) VALUES('Lion Feuchtwanger')\")\n",
      "    cur.execute(\"INSERT INTO Writers(Name) VALUES('Emile Zola')\")\n",
      "    cur.execute(\"INSERT INTO Writers(Name) VALUES('Truman Capote')\")"
     ],
     "language": "python",
     "metadata": {},
     "outputs": [
      {
       "output_type": "stream",
       "stream": "stderr",
       "text": [
        "-c:4: Warning: Unknown table 'Writers'\n"
       ]
      }
     ],
     "prompt_number": 7
    },
    {
     "cell_type": "code",
     "collapsed": false,
     "input": [
      "curr = con.cursor()"
     ],
     "language": "python",
     "metadata": {},
     "outputs": [],
     "prompt_number": 5
    },
    {
     "cell_type": "code",
     "collapsed": false,
     "input": [
      "curr.execute(\"SELECT * FROM Writers\")"
     ],
     "language": "python",
     "metadata": {},
     "outputs": [
      {
       "metadata": {},
       "output_type": "pyout",
       "prompt_number": 6,
       "text": [
        "5L"
       ]
      }
     ],
     "prompt_number": 6
    },
    {
     "cell_type": "code",
     "collapsed": false,
     "input": [
      "rows = curr.fetchall()"
     ],
     "language": "python",
     "metadata": {},
     "outputs": [],
     "prompt_number": 7
    },
    {
     "cell_type": "code",
     "collapsed": false,
     "input": [
      "rows"
     ],
     "language": "python",
     "metadata": {},
     "outputs": [
      {
       "metadata": {},
       "output_type": "pyout",
       "prompt_number": 8,
       "text": [
        "((1L, 'Jack London'),\n",
        " (2L, 'Honore de Balzac'),\n",
        " (3L, 'Lion Feuchtwanger'),\n",
        " (4L, 'Emile Zola'),\n",
        " (5L, 'Truman Capote'))"
       ]
      }
     ],
     "prompt_number": 8
    },
    {
     "cell_type": "code",
     "collapsed": false,
     "input": [
      "import pymongo"
     ],
     "language": "python",
     "metadata": {},
     "outputs": [],
     "prompt_number": 22
    },
    {
     "cell_type": "code",
     "collapsed": false,
     "input": [
      "from pymongo import MongoClient"
     ],
     "language": "python",
     "metadata": {},
     "outputs": [],
     "prompt_number": 24
    },
    {
     "cell_type": "code",
     "collapsed": false,
     "input": [
      "client = MongoClient()"
     ],
     "language": "python",
     "metadata": {},
     "outputs": [],
     "prompt_number": 25
    },
    {
     "cell_type": "code",
     "collapsed": false,
     "input": [
      " db = client.test_database\n",
      " coll = db.coll"
     ],
     "language": "python",
     "metadata": {},
     "outputs": [],
     "prompt_number": 31
    },
    {
     "cell_type": "code",
     "collapsed": false,
     "input": [
      "post_id = coll.insert({'test': 'igor'})"
     ],
     "language": "python",
     "metadata": {},
     "outputs": [],
     "prompt_number": 36
    },
    {
     "cell_type": "code",
     "collapsed": false,
     "input": [
      "coll.find_one()"
     ],
     "language": "python",
     "metadata": {},
     "outputs": [
      {
       "metadata": {},
       "output_type": "pyout",
       "prompt_number": 41,
       "text": [
        "{u'_id': ObjectId('53f2144f56c02c071043c04b'), u'test': u'igor'}"
       ]
      }
     ],
     "prompt_number": 41
    },
    {
     "cell_type": "code",
     "collapsed": false,
     "input": [
      "import sqlite3"
     ],
     "language": "python",
     "metadata": {},
     "outputs": [],
     "prompt_number": 42
    },
    {
     "cell_type": "code",
     "collapsed": false,
     "input": [
      "import scipy"
     ],
     "language": "python",
     "metadata": {},
     "outputs": [
      {
       "ename": "ImportError",
       "evalue": "No module named scipy",
       "output_type": "pyerr",
       "traceback": [
        "\u001b[1;31m---------------------------------------------------------------------------\u001b[0m\n\u001b[1;31mImportError\u001b[0m                               Traceback (most recent call last)",
        "\u001b[1;32m<ipython-input-43-4dc45f4c0083>\u001b[0m in \u001b[0;36m<module>\u001b[1;34m()\u001b[0m\n\u001b[1;32m----> 1\u001b[1;33m \u001b[1;32mimport\u001b[0m \u001b[0mscipy\u001b[0m\u001b[1;33m\u001b[0m\u001b[0m\n\u001b[0m",
        "\u001b[1;31mImportError\u001b[0m: No module named scipy"
       ]
      }
     ],
     "prompt_number": 43
    },
    {
     "cell_type": "markdown",
     "metadata": {},
     "source": [
      "### Load data"
     ]
    },
    {
     "cell_type": "code",
     "collapsed": false,
     "input": [
      "def remove_double_spaces(df):\n",
      "    for col in df.columns.tolist():\n",
      "        short_col = ' '.join(col.split())\n",
      "        if len(col) > len(short_col):\n",
      "            df.rename(columns={col: short_col}, inplace=True)"
     ],
     "language": "python",
     "metadata": {},
     "outputs": [],
     "prompt_number": 2
    },
    {
     "cell_type": "code",
     "collapsed": false,
     "input": [
      "def clean_(df):\n",
      "    for col in df.columns.values:\n",
      "        if '_' in col:\n",
      "            spaced_col = ' '.join(col.split('_'))\n",
      "            df.rename(columns={col:spaced_col}, inplace=True)"
     ],
     "language": "python",
     "metadata": {},
     "outputs": [],
     "prompt_number": 3
    },
    {
     "cell_type": "code",
     "collapsed": false,
     "input": [
      "def add_col(df, col, val=0):\n",
      "    if not hasattr(df, col):\n",
      "        df[col] = val\n",
      "    else:\n",
      "        df[col] = df[col].fillna(val)"
     ],
     "language": "python",
     "metadata": {},
     "outputs": [],
     "prompt_number": 4
    },
    {
     "cell_type": "code",
     "collapsed": false,
     "input": [
      "def load_files(platform_name, dir_name=data_dir, chunksize=100):\n",
      "    res = pd.DataFrame()\n",
      "    for f in os.listdir(dir_name):\n",
      "        if fnmatch.fnmatch(f, platform_name + '.csv'):\n",
      "            f_path = os.path.join(dir_name, f)\n",
      "            logging.debug('appending file: ' + f_path)\n",
      "            df = pd.read_csv(f_path, chunksize=chunksize)\n",
      "            real_cols = pd.read_csv(f_path, nrows=1).columns.tolist()\n",
      "            real_cols = map(lambda x: ' '.join(x.split()), real_cols)\n",
      "            real_cols = set(map(lambda x: x.replace('_', ' '), real_cols))\n",
      "            cols = {\n",
      "                    'Publisher',\n",
      "                    'Placement',\n",
      "                    '1 day avails',\n",
      "                    'developer',\n",
      "                    'top free rank',\n",
      "                    'top paid rank',\n",
      "                    'top grossing rank',\n",
      "                    'top keywords title',\n",
      "                    'top keywords description',\n",
      "                    'top keywords description sip',\n",
      "                    'top keywords review',\n",
      "                    'top keywords review sip',\n",
      "                    'featured rank'\n",
      "                    'id',\n",
      "                    'title',\n",
      "                    'language',\n",
      "                    'category',\n",
      "                    'sub categories',\n",
      "                    'price',\n",
      "                    'reviews count',\n",
      "                    'review rating',\n",
      "                    'content rating',\n",
      "                    'installs',\n",
      "                    'brand score',\n",
      "                    'M', 'F',\n",
      "                    'Caucasian (white)',\n",
      "                    'Middle Eastern',\n",
      "                    'Native American',\n",
      "                    'East Indian',\n",
      "                    'African descent (black)',\n",
      "                    'Asian',\n",
      "                    'Pacific Islander',\n",
      "                    'Latino / Hispanic',\n",
      "                    'Related Apps',\n",
      "                    'Related Apps Categories',\n",
      "                    'Related Apps SUB Categories',\n",
      "                    'Related Apps: M',\n",
      "                    'Related Apps: F',\n",
      "                    'Related Apps: Caucasian (white)',\n",
      "                    'Related Apps: Middle Eastern',\n",
      "                    'Related Apps: Native American',\n",
      "                    'Related Apps: East Indian',\n",
      "                    'Related Apps: African descent (black)',\n",
      "                    'Related Apps: Asian',\n",
      "                    'Related Apps: Pacific Islander',\n",
      "                    'Related Apps: Latino / Hispanic',\n",
      "            }\n",
      "            cols = list(real_cols.intersection(cols))\n",
      "            for (i, chunk) in enumerate(df):\n",
      "                remove_double_spaces(chunk)\n",
      "                clean_(chunk)\n",
      "                add_col(chunk, 'installs', 0)\n",
      "                add_col(chunk, 'review rating', 0)\n",
      "                logging.debug('\\t appending chunk ' + str(i))\n",
      "                res = pd.concat([res, chunk[cols]])\n",
      "    res.f_path = f_path[:-4] + '_' + str(randint(0, 9999)) + '.csv'\n",
      "    return res"
     ],
     "language": "python",
     "metadata": {},
     "outputs": [],
     "prompt_number": 5
    },
    {
     "cell_type": "code",
     "collapsed": false,
     "input": [
      "df = [\n",
      "        load_files('itunes-aid-w'),\n",
      "        load_files('android-aid-w'),\n",
      "]"
     ],
     "language": "python",
     "metadata": {},
     "outputs": [],
     "prompt_number": 6
    },
    {
     "cell_type": "code",
     "collapsed": false,
     "input": [
      "ethnics = [\n",
      "            'Caucasian (white)',\n",
      "            'Middle Eastern',\n",
      "            'Native American',\n",
      "            'East Indian',\n",
      "            'African descent (black)',\n",
      "            'Asian',\n",
      "            'Pacific Islander',\n",
      "            'Latino / Hispanic',\n",
      "]"
     ],
     "language": "python",
     "metadata": {},
     "outputs": [],
     "prompt_number": 7
    },
    {
     "cell_type": "code",
     "collapsed": false,
     "input": [
      "def count_totals(df):\n",
      "    df['Ethnic-total'] = 0.\n",
      "    df['Related Apps: Ethnic-total'] = 0.\n",
      "    for e in ethnics:\n",
      "        df['Ethnic-total'] += df[e]\n",
      "        df['Related Apps: Ethnic-total'] += df['Related Apps: ' + e]\n",
      "\n",
      "    df['Gender-total'] = 0\n",
      "    df['Related Apps: Gender-total'] = 0\n",
      "    for sex in ('F', 'M'):\n",
      "        df['Gender-total'] += df[sex]\n",
      "        df['Related Apps: Gender-total'] += df['Related Apps: ' + sex]\n",
      "    \n",
      "    return df\n",
      "\n",
      "df = map(count_totals, df)"
     ],
     "language": "python",
     "metadata": {},
     "outputs": [],
     "prompt_number": 8
    },
    {
     "cell_type": "code",
     "collapsed": false,
     "input": [
      "def share_count(row, one, two):\n",
      "    if math.isnan(row[two]) or row[two] == 0:\n",
      "        return 0\n",
      "    else:\n",
      "        return row[one] / row[two]"
     ],
     "language": "python",
     "metadata": {},
     "outputs": [],
     "prompt_number": 9
    },
    {
     "cell_type": "code",
     "collapsed": false,
     "input": [
      "def share_platform_gender(df):\n",
      "    for sex in ('F', 'M'):\n",
      "        share = sex + '-share'\n",
      "        df[share] = df.apply(share_count, one=sex, two='Gender-total', axis=1)\n",
      "        df['Related Apps: ' + share] = df.apply(\n",
      "                                                share_count,\n",
      "                                                one='Related Apps: ' + sex,\n",
      "                                                two='Related Apps: Gender-total',\n",
      "                                                axis=1,\n",
      "        )\n",
      "    \n",
      "    return df\n",
      "\n",
      "df = map(share_platform_gender, df)"
     ],
     "language": "python",
     "metadata": {},
     "outputs": [],
     "prompt_number": 10
    },
    {
     "cell_type": "code",
     "collapsed": false,
     "input": [
      "def share_platform_age(df):\n",
      "    for e in ethnics:\n",
      "        res = e + '-share'\n",
      "        df[res] = df.apply(share_count, one=e, two='Ethnic-total', axis=1)\n",
      "\n",
      "    for e in ethnics:\n",
      "        e = \"Related Apps: \" + e\n",
      "        res = e + '-share'\n",
      "        df[res] = df.apply(share_count, one=e, two='Related Apps: Ethnic-total', axis=1)\n",
      "    \n",
      "    return df\n",
      "\n",
      "df = map(share_platform_age, df)"
     ],
     "language": "python",
     "metadata": {},
     "outputs": [],
     "prompt_number": 11
    },
    {
     "cell_type": "code",
     "collapsed": false,
     "input": [
      "def index_count(row, one, two):\n",
      "    return row[one] / two\n",
      "\n",
      "def index_platform_gender(df):\n",
      "    for sex in ('F', 'M'):\n",
      "        index = sex + '-index'\n",
      "        share = sex + '-share'\n",
      "        related_share = 'Related Apps: ' + share\n",
      "        df[index] = df.apply(index_count, one=share, two = df[df[share]!=0][share].mean(), axis=1)\n",
      "        df['Related Apps: ' + index] = df.apply(\n",
      "                                                index_count,\n",
      "                                                one=related_share,\n",
      "                                                two=df[df[related_share]!=0][related_share].mean(),\n",
      "                                                axis=1,\n",
      "        )\n",
      "    return df\n",
      "\n",
      "df = map(index_platform_gender, df)"
     ],
     "language": "python",
     "metadata": {},
     "outputs": [],
     "prompt_number": 12
    },
    {
     "cell_type": "code",
     "collapsed": false,
     "input": [
      "def index_platform_age(df):\n",
      "    for e in ethnics:\n",
      "        res = e + '-index'\n",
      "        o = e +'-share'\n",
      "        df[res] = df.apply(index_count, one=o, two=df[df[o]!=0][o].mean(), axis=1)\n",
      "\n",
      "    for e in ethnics:\n",
      "        o = \"Related Apps: \" + e + \"-share\"\n",
      "        res = \"Related Apps: \" + e + '-index'\n",
      "        df[res] = df.apply(index_count, one=e, two=df[df[o]!=0][o].mean(), axis=1)\n",
      "  \n",
      "    return df\n",
      "\n",
      "df = map(index_platform_age, df)"
     ],
     "language": "python",
     "metadata": {},
     "outputs": [],
     "prompt_number": 13
    },
    {
     "cell_type": "markdown",
     "metadata": {},
     "source": [
      "##### done index against platform"
     ]
    },
    {
     "cell_type": "code",
     "collapsed": false,
     "input": [
      "# begin index against category\n",
      "cats = df[0].groupby('category')"
     ],
     "language": "python",
     "metadata": {},
     "outputs": [],
     "prompt_number": 14
    },
    {
     "cell_type": "code",
     "collapsed": false,
     "input": [
      "def cat_count(row):\n",
      "    return row[row>0].mean()\n"
     ],
     "language": "python",
     "metadata": {},
     "outputs": [],
     "prompt_number": 15
    },
    {
     "cell_type": "code",
     "collapsed": false,
     "input": [
      "categories = pd.DataFrame(index=cats.groups.keys())\n",
      "categories"
     ],
     "language": "python",
     "metadata": {},
     "outputs": [
      {
       "html": [
        "<div style=\"max-height:1000px;max-width:1500px;overflow:auto;\">\n",
        "<table border=\"1\" class=\"dataframe\">\n",
        "  <tbody>\n",
        "    <tr>\n",
        "      <td>Index([u'Productivity', u'Photo &amp; Video', u'Entertainment', u'Travel', u'Sports', u'Food &amp; Drink', u'Music', u'Health &amp; Fitness', u'Finance', u'Business', u'Social Networking', u'Utilities', u'Books', u'News', u'Lifestyle', u'Medical', u'Games', u'Catalogs', u'Navigation', u'Reference', u'Weather', u'Education'], dtype='object')</td>\n",
        "      <td>Empty DataFrame</td>\n",
        "    </tr>\n",
        "  </tbody>\n",
        "</table>\n",
        "<p>22 rows \u00d7 0 columns</p>\n",
        "</div>"
       ],
       "metadata": {},
       "output_type": "pyout",
       "prompt_number": 16,
       "text": [
        "Empty DataFrame\n",
        "Columns: []\n",
        "Index: [Productivity, Photo & Video, Entertainment, Travel, Sports, Food & Drink, Music, Health & Fitness, Finance, Business, Social Networking, Utilities, Books, News, Lifestyle, Medical, Games, Catalogs, Navigation, Reference, Weather, Education]\n",
        "\n",
        "[22 rows x 0 columns]"
       ]
      }
     ],
     "prompt_number": 16
    },
    {
     "cell_type": "code",
     "collapsed": false,
     "input": [
      "for sex in ('F', 'M'):\n",
      "    share = sex + '-share'\n",
      "    categories[share] = cats[share].apply(cat_count)\n",
      "    categories['Related Apps: ' + share] = cats['Related Apps: ' + share].apply(cat_count)\n",
      "\n",
      "\n",
      "for e in ethnics:\n",
      "    res = e + '-index'\n",
      "    o = e +'-share'\n",
      "    categories[o] = cats[o].apply(cat_count)\n",
      "\n",
      "for e in ethnics:\n",
      "    e = \"Related Apps: \" + e + \"-share\"\n",
      "    res = e + '-index'\n",
      "    categories[e] = cats[e].apply(cat_count)\n"
     ],
     "language": "python",
     "metadata": {},
     "outputs": [],
     "prompt_number": 17
    },
    {
     "cell_type": "code",
     "collapsed": false,
     "input": [
      "def cat_find(row, index):\n",
      "    result = row[index] / categories[categories.index==row['category']][index]\n",
      "    if result.values:\n",
      "        return result.values[0]\n",
      "    else:\n",
      "        return 0"
     ],
     "language": "python",
     "metadata": {},
     "outputs": [],
     "prompt_number": 18
    },
    {
     "cell_type": "code",
     "collapsed": false,
     "input": [
      "def index_cat(df):\n",
      "    for sex in ('F', 'M'):\n",
      "        index_cat = sex + '-index-cat'\n",
      "        share = sex + '-share'\n",
      "        relat_ind_cat = 'Related Apps: ' + index_cat\n",
      "        relat_share = 'Related Apps: ' + share\n",
      "        df[index_cat] = df.apply(cat_find, index=share, axis=1)\n",
      "        df[relat_ind_cat] = df.apply(\n",
      "                                        cat_find,\n",
      "                                        index=relat_share,\n",
      "                                        axis=1,\n",
      "        )\n",
      "        \n",
      "    for e in ethnics:\n",
      "        res = e + '-index-cat'\n",
      "        o = e +'-share'\n",
      "        df[res] = df.apply(cat_find, index=o, axis=1)\n",
      "\n",
      "    for e in ethnics:\n",
      "        o = \"Related Apps: \" + e + \"-share\"\n",
      "        res = \"Related Apps: \" + e + '-index-cat'\n",
      "        df[res] = df.apply(cat_find, index=o, axis=1)\n",
      "  \n",
      "    return df    "
     ],
     "language": "python",
     "metadata": {},
     "outputs": [],
     "prompt_number": 19
    },
    {
     "cell_type": "code",
     "collapsed": false,
     "input": [
      "df = map(index_cat, df)"
     ],
     "language": "python",
     "metadata": {},
     "outputs": [],
     "prompt_number": 20
    },
    {
     "cell_type": "code",
     "collapsed": false,
     "input": [
      "#index against both platforms\n",
      "def both_index():\n",
      "    rows = ['M', 'F'] + ethnics \n",
      "\n",
      "    final_rows = []\n",
      "\n",
      "    for r in rows:\n",
      "        final_rows.append(r + '-share')\n",
      "        final_rows.append('Related Apps: ' + r + '-share')\n",
      "\n",
      "    both_platforms_shares = pd.concat([df[0][final_rows], df[1][final_rows]])\n",
      "    both_platforms_shares.to_csv('tmp/both_platforms_shares.csv')\n",
      "    return both_platforms_shares\n",
      "    \n",
      "both_platforms_shares = both_index()"
     ],
     "language": "python",
     "metadata": {},
     "outputs": [],
     "prompt_number": 21
    },
    {
     "cell_type": "code",
     "collapsed": false,
     "input": [
      "def index_both_platform(df, both_shares):\n",
      "    rows = ['M', 'F'] + ethnics\n",
      "\n",
      "    for e in rows:\n",
      "        res = e + '-index-both'\n",
      "        o = e +'-share'\n",
      "        df[res] = df.apply(index_count, one=o, two=both_shares[both_shares[o]!=0][o].mean(), axis=1)\n",
      "\n",
      "    for e in rows:\n",
      "        o = \"Related Apps: \" + e + \"-share\"\n",
      "        res = \"Related Apps: \" + e + '-index-both'\n",
      "        df[res] = df.apply(index_count, one=o, two=both_shares[both_shares[o]!=0][o].mean(), axis=1)\n",
      "  \n",
      "    return df\n",
      "\n",
      "\n",
      "# itunes = index_both_platform(itunes, both_platforms_shares)\n",
      "df[0] = index_both_platform(df[0], both_platforms_shares)\n",
      "df[1] = index_both_platform(df[1], both_platforms_shares)"
     ],
     "language": "python",
     "metadata": {},
     "outputs": [],
     "prompt_number": 22
    },
    {
     "cell_type": "code",
     "collapsed": false,
     "input": [
      "cols = [\n",
      "        'Publisher',\n",
      "        'Placement',\n",
      "        'AID',\n",
      "#         'Publisher',\n",
      "        'URL',\n",
      "        '1 day avails',\n",
      "        'title',\n",
      "        'language',\n",
      "        'icon',\n",
      "        'category',\n",
      "        'developer',\n",
      "        'price',\n",
      "        'reviews count',\n",
      "        'content rating',\n",
      "        'brand score',\n",
      "        'release date',\n",
      "        'likely to be',\n",
      "        'top free rank',\n",
      "        'top paid rank',\n",
      "        'top grossing rank',\n",
      "        'top keywords title',\n",
      "        'top keywords description',\n",
      "        'top keywords description sip',\n",
      "        'top keywords review',\n",
      "        'top keywords review sip',\n",
      "        'M',\n",
      "        'F',\n",
      "        'Caucasian (white)',\n",
      "        'Middle Eastern',\n",
      "        'Native American',\n",
      "        'East Indian',\n",
      "        'African descent (black)',\n",
      "        'Asian',\n",
      "        'Pacific Islander',\n",
      "        'Latino / Hispanic',\n",
      "        'Related Apps',\n",
      "        'Related Apps Icons',\n",
      "        'Related Apps Categories',\n",
      "        'Related Apps SUB Categories',\n",
      "        'Related Apps: M',\n",
      "        'Related Apps: F',\n",
      "        'Related Apps: Caucasian (white)',\n",
      "        'Related Apps: Middle Eastern',\n",
      "        'Related Apps: Native American',\n",
      "        'Related Apps: East Indian',\n",
      "        'Related Apps: African descent (black)',\n",
      "        'Related Apps: Asian',\n",
      "        'Related Apps: Pacific Islander',\n",
      "        'Related Apps: Latino / Hispanic',\n",
      "]\n",
      "\n",
      "# those columns are in itunes, but not in android:\n",
      "'''['installs',\n",
      " 'sub categories',\n",
      " 'Related Apps Name',\n",
      " 'review rating',\n",
      " 'id',\n",
      " 'featured rank']'''\n",
      "\n",
      "cols_additional = [\n",
      "                    'installs',\n",
      "                    'sub categories',\n",
      "                    'Related Apps Name',\n",
      "                    'review rating',\n",
      "                    'id',\n",
      "                    'featured rank',\n",
      "]\n",
      "\n",
      "rows = ['M', 'F'] + ethnics\n",
      "for e in rows:\n",
      "    ind = e + '-index'\n",
      "    cat = e + '-index-cat'\n",
      "    both = e + '-index-both'\n",
      "    inds = e +'-share'\n",
      "    \n",
      "    cols.extend([\n",
      "                    inds,\n",
      "                    ind,\n",
      "                    cat,\n",
      "                    both,\n",
      "    ])\n",
      "\n",
      "for e in rows:\n",
      "    ee = \"Related Apps: \" + e\n",
      "    ind = ee + '-index'\n",
      "    cat = ee + '-index-cat'\n",
      "    both = ee + '-index-both'\n",
      "    inds = ee +'-share'\n",
      "    cols.extend([\n",
      "                    inds,\n",
      "                    ind,\n",
      "                    cat,\n",
      "                    both,\n",
      "    ])\n",
      "\n",
      "logging.debug(cols)"
     ],
     "language": "python",
     "metadata": {},
     "outputs": [],
     "prompt_number": 23
    },
    {
     "cell_type": "markdown",
     "metadata": {},
     "source": [
      "##### insert some columns in both platforms"
     ]
    },
    {
     "cell_type": "code",
     "collapsed": false,
     "input": [
      "cols_df = cols\n",
      "cols_df.extend(cols_additional)\n",
      "cols.extend(['Gender-total', 'Related Apps: Ethnic-total', 'Related Apps: Gender-total', 'Ethnic-total'])\n",
      "\n",
      "for d in df:\n",
      "    for column in set(cols_df) - set(d.columns.values):\n",
      "        d[column] = np.nan"
     ],
     "language": "python",
     "metadata": {},
     "outputs": [],
     "prompt_number": 24
    },
    {
     "cell_type": "code",
     "collapsed": false,
     "input": [
      "cols_df.extend(set(cols_df).symmetric_difference(set(df[0].columns.values)))"
     ],
     "language": "python",
     "metadata": {},
     "outputs": [],
     "prompt_number": 25
    },
    {
     "cell_type": "code",
     "collapsed": false,
     "input": [
      "for d in df:\n",
      "    d.to_csv(\n",
      "                    d.f_path.replace('.csv', '_master_cols.csv'),\n",
      "                    cols=cols_df,\n",
      "    )"
     ],
     "language": "python",
     "metadata": {},
     "outputs": [],
     "prompt_number": 26
    },
    {
     "cell_type": "code",
     "collapsed": false,
     "input": [],
     "language": "python",
     "metadata": {},
     "outputs": [],
     "prompt_number": 26
    }
   ],
   "metadata": {}
  }
 ]
}